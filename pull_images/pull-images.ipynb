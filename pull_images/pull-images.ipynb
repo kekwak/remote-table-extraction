{
 "cells": [
  {
   "cell_type": "code",
   "execution_count": 13,
   "metadata": {},
   "outputs": [],
   "source": [
    "from pathlib import Path\n",
    "import pyautogui\n",
    "import time\n",
    "import os"
   ]
  },
  {
   "cell_type": "code",
   "execution_count": 14,
   "metadata": {},
   "outputs": [],
   "source": [
    "def automate_actions(key, key_time, screenshot_time, save_path, init_wait=5, region=None):\n",
    "    time.sleep(init_wait)\n",
    "\n",
    "    counter = 0\n",
    "    while True:\n",
    "        screenshot = pyautogui.screenshot(region=region)\n",
    "        screenshot.save(save_path / f'screenshot_#{counter}-{int(time.time())}.png')\n",
    "        time.sleep(screenshot_time)\n",
    "\n",
    "        pyautogui.press(key)\n",
    "        time.sleep(key_time)\n",
    "\n",
    "        counter += 1"
   ]
  },
  {
   "cell_type": "code",
   "execution_count": 15,
   "metadata": {},
   "outputs": [],
   "source": [
    "right_key = 'right'\n",
    "key_time = 0.25\n",
    "screenshot_time = 0.25\n",
    "save_path = Path('./screenshots')\n",
    "if save_path.exists():\n",
    "    os.system(f'rm -rf {save_path}')\n",
    "save_path.mkdir()"
   ]
  },
  {
   "cell_type": "code",
   "execution_count": 4,
   "metadata": {},
   "outputs": [],
   "source": [
    "automate_actions(right_key, key_time, screenshot_time, save_path)"
   ]
  },
  {
   "cell_type": "code",
   "execution_count": null,
   "metadata": {},
   "outputs": [],
   "source": []
  }
 ],
 "metadata": {
  "kernelspec": {
   "display_name": "base",
   "language": "python",
   "name": "python3"
  },
  "language_info": {
   "codemirror_mode": {
    "name": "ipython",
    "version": 3
   },
   "file_extension": ".py",
   "mimetype": "text/x-python",
   "name": "python",
   "nbconvert_exporter": "python",
   "pygments_lexer": "ipython3",
   "version": "3.12.7"
  }
 },
 "nbformat": 4,
 "nbformat_minor": 2
}
