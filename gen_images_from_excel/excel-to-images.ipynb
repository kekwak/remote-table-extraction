{
 "cells": [
  {
   "cell_type": "code",
   "execution_count": 1,
   "metadata": {},
   "outputs": [],
   "source": [
    "from pathlib import Path\n",
    "from tqdm import tqdm\n",
    "import pandas as pd\n",
    "import imgkit\n",
    "import os"
   ]
  },
  {
   "cell_type": "code",
   "execution_count": 2,
   "metadata": {},
   "outputs": [],
   "source": [
    "scroll_step = 25\n",
    "excel_path = Path('parsed-data.csv')\n",
    "images_path = Path('images')\n",
    "htmls_path = Path('htmls')\n",
    "\n",
    "df = pd.read_csv(excel_path, header=None)"
   ]
  },
  {
   "cell_type": "code",
   "execution_count": 3,
   "metadata": {},
   "outputs": [],
   "source": [
    "if images_path.exists():\n",
    "    os.system(f'rm -rf {str(images_path)}')\n",
    "if htmls_path.exists():\n",
    "    os.system(f'rm -rf {str(htmls_path)}')\n",
    "os.makedirs(str(images_path))\n",
    "os.makedirs(str(htmls_path))\n",
    "\n",
    "css = '''\n",
    "<style>\n",
    "body, html {\n",
    "    margin: 0;\n",
    "    padding: 0;\n",
    "    width: 100%;\n",
    "    height: 100%;\n",
    "}\n",
    "table {\n",
    "    width: 100%;\n",
    "    height: 100%;\n",
    "    border-collapse: collapse;\n",
    "    text-align: center;\n",
    "    font-family: 'Arial', sans-serif;\n",
    "    background-color: #ffffff;\n",
    "    font-size: 14px;\n",
    "}\n",
    "th, td {\n",
    "    border: 3px solid black;\n",
    "}\n",
    "</style>\n",
    "'''"
   ]
  },
  {
   "cell_type": "code",
   "execution_count": 4,
   "metadata": {},
   "outputs": [
    {
     "name": "stderr",
     "output_type": "stream",
     "text": [
      "Generating images: 100%|██████████| 4/4 [00:02<00:00,  1.49it/s, Converting html to image...]\n"
     ]
    }
   ],
   "source": [
    "loop = tqdm(range(0, len(df), scroll_step), desc='Generating images')\n",
    "for i in loop:\n",
    "    loop.set_postfix_str(f'Creating html...')\n",
    "    df_step = df.loc[i:i+24]\n",
    "    html_step = df_step.to_html(index=False, header=False)\n",
    "\n",
    "    out_path = htmls_path / f'{excel_path.stem}_{i}-{i+24}.html'\n",
    "    with open(out_path, 'w') as f:\n",
    "        f.write(css + html_step)\n",
    "    \n",
    "    loop.set_postfix_str(f'Converting html to image...')\n",
    "    img_path = images_path / f'{excel_path.stem}_{i}-{i+24}.png'\n",
    "    imgkit.from_file(str(out_path), str(img_path), options={\n",
    "        'quiet': '',\n",
    "        'encoding': 'UTF-8',\n",
    "        'quality': '100',\n",
    "        'zoom': '2',\n",
    "        'width': '2560',\n",
    "        'format': 'png',\n",
    "    })"
   ]
  },
  {
   "cell_type": "code",
   "execution_count": null,
   "metadata": {},
   "outputs": [],
   "source": []
  }
 ],
 "metadata": {
  "kernelspec": {
   "display_name": "base",
   "language": "python",
   "name": "python3"
  },
  "language_info": {
   "codemirror_mode": {
    "name": "ipython",
    "version": 3
   },
   "file_extension": ".py",
   "mimetype": "text/x-python",
   "name": "python",
   "nbconvert_exporter": "python",
   "pygments_lexer": "ipython3",
   "version": "3.12.7"
  }
 },
 "nbformat": 4,
 "nbformat_minor": 2
}
