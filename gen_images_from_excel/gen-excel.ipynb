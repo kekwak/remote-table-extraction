{
 "cells": [
  {
   "cell_type": "code",
   "execution_count": null,
   "metadata": {},
   "outputs": [],
   "source": [
    "import pandas as pd\n",
    "import numpy as np\n",
    "from datetime import datetime, timedelta\n",
    "import string\n",
    "import os"
   ]
  },
  {
   "cell_type": "code",
   "execution_count": null,
   "metadata": {},
   "outputs": [],
   "source": [
    "def generate_random_string(length=10):\n",
    "    letters = string.ascii_letters\n",
    "    return ''.join(np.random.choice(list(letters), size=length))\n",
    "\n",
    "def generate_random_date(start_date, end_date):\n",
    "    delta = end_date - start_date\n",
    "    random_days = np.random.randint(0, delta.days)\n",
    "    return start_date + timedelta(days=int(random_days))\n",
    "\n",
    "def create_random_excel(file_path, sheet_name='Sheet1', num_rows=500, num_cols=10):\n",
    "    columns = [f'Column_{i+1}' for i in range(num_cols)]\n",
    "    \n",
    "    data = {}\n",
    "    for col in columns:\n",
    "        col_type = np.random.choice(['int', 'float', 'string', 'date'])\n",
    "        if col_type == 'int':\n",
    "            data[col] = np.random.randint(0, 1000000000000, size=num_rows).tolist()\n",
    "        elif col_type == 'float':\n",
    "            data[col] = np.round(np.random.uniform(0, 1000000000, size=num_rows), 2).tolist()\n",
    "        elif col_type == 'string':\n",
    "            data[col] = [generate_random_string(np.random.randint(5, 50)) for _ in range(num_rows)]\n",
    "        elif col_type == 'date':\n",
    "            start = datetime(2000, 1, 1)\n",
    "            end = datetime(2025, 12, 31)\n",
    "            data[col] = [generate_random_date(start, end).date() for _ in range(num_rows)]\n",
    "    \n",
    "    df = pd.DataFrame(data)\n",
    "    \n",
    "    with pd.ExcelWriter(file_path, engine='openpyxl') as writer:\n",
    "        df.to_excel(writer, sheet_name=sheet_name, index=False)\n",
    "    \n",
    "    print(f'Random Excel workbook created at: {file_path}')"
   ]
  },
  {
   "cell_type": "code",
   "execution_count": null,
   "metadata": {},
   "outputs": [],
   "source": [
    "output_dir = './'\n",
    "if not os.path.exists(output_dir):\n",
    "    os.makedirs(output_dir)\n",
    "\n",
    "excel_file = os.path.join(output_dir, 'random-test-workbook.xlsx')\n",
    "\n",
    "sheet = 'TestSheet'\n",
    "rows = 500\n",
    "columns = 4\n",
    "\n",
    "create_random_excel(file_path=excel_file, sheet_name=sheet, num_rows=rows, num_cols=columns)"
   ]
  },
  {
   "cell_type": "code",
   "execution_count": null,
   "metadata": {},
   "outputs": [],
   "source": []
  }
 ],
 "metadata": {
  "kernelspec": {
   "display_name": "base",
   "language": "python",
   "name": "python3"
  },
  "language_info": {
   "codemirror_mode": {
    "name": "ipython",
    "version": 3
   },
   "file_extension": ".py",
   "mimetype": "text/x-python",
   "name": "python",
   "nbconvert_exporter": "python",
   "pygments_lexer": "ipython3",
   "version": "3.12.7"
  }
 },
 "nbformat": 4,
 "nbformat_minor": 2
}
